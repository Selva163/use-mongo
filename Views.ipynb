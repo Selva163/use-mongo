{
 "cells": [
  {
   "cell_type": "markdown",
   "metadata": {},
   "source": [
    "# Views & Capped Collections"
   ]
  },
  {
   "cell_type": "markdown",
   "metadata": {},
   "source": [
    "Views in MongoDB are read only, meaning you can't insert into or update as the normal SQL views. Views benefits the users in giving role based access\n",
    "\n",
    "References:\n",
    "https://docs.mongodb.com/manual/core/views/\n",
    "\n",
    "https://dzone.com/articles/taking-a-look-at-mongodb-views"
   ]
  },
  {
   "cell_type": "code",
   "execution_count": 1,
   "metadata": {},
   "outputs": [],
   "source": [
    "import pymongo as pm\n",
    "from pymongo import MongoClient\n",
    "from bson import Code\n",
    "# client = MongoClient('localhost', 27017)\n",
    "client = MongoClient('mongodb://localhost:27017/')\n",
    "stockDB = client.stock\n",
    "companyDB = client.companyData\n",
    "stockCol = stockDB.stocks\n",
    "companyCol = companyDB.companies\n",
    "\n",
    "import warnings\n",
    "warnings.filterwarnings('ignore')"
   ]
  },
  {
   "cell_type": "code",
   "execution_count": 2,
   "metadata": {},
   "outputs": [
    {
     "data": {
      "text/plain": [
       "{'_id': ObjectId('52cdef7c4bab8bd675297d8b'),\n",
       " 'name': 'AdventNet',\n",
       " 'permalink': 'abc3',\n",
       " 'crunchbase_url': 'http://www.crunchbase.com/company/adventnet',\n",
       " 'homepage_url': 'http://adventnet.com',\n",
       " 'blog_url': '',\n",
       " 'blog_feed_url': '',\n",
       " 'twitter_username': 'manageengine',\n",
       " 'category_code': 'enterprise',\n",
       " 'number_of_employees': 600,\n",
       " 'founded_year': 1996,\n",
       " 'deadpooled_year': 2,\n",
       " 'tag_list': '',\n",
       " 'alias_list': 'Zoho ManageEngine ',\n",
       " 'email_address': 'pr@adventnet.com',\n",
       " 'phone_number': '925-924-9500',\n",
       " 'description': 'Server Management Software',\n",
       " 'created_at': datetime.datetime(2007, 5, 25, 19, 24, 22),\n",
       " 'updated_at': 'Wed Oct 31 18:26:09 UTC 2012',\n",
       " 'overview': '<p>AdventNet is now <a href=\"/company/zoho-manageengine\" title=\"Zoho ManageEngine\" rel=\"nofollow\">Zoho ManageEngine</a>.</p>\\n\\n<p>Founded in 1996, AdventNet has served a diverse range of enterprise IT, networking and telecom customers.</p>\\n\\n<p>AdventNet supplies server and network management software.</p>',\n",
       " 'image': {'available_sizes': [[[150, 55],\n",
       "    'assets/images/resized/0001/9732/19732v1-max-150x150.png'],\n",
       "   [[150, 55], 'assets/images/resized/0001/9732/19732v1-max-250x250.png'],\n",
       "   [[150, 55], 'assets/images/resized/0001/9732/19732v1-max-450x450.png']]},\n",
       " 'products': [],\n",
       " 'relationships': [{'is_past': True,\n",
       "   'title': 'CEO and Co-Founder',\n",
       "   'person': {'first_name': 'Sridhar',\n",
       "    'last_name': 'Vembu',\n",
       "    'permalink': 'sridhar-vembu'}},\n",
       "  {'is_past': True,\n",
       "   'title': 'VP of Business Dev',\n",
       "   'person': {'first_name': 'Neil',\n",
       "    'last_name': 'Butani',\n",
       "    'permalink': 'neil-butani'}},\n",
       "  {'is_past': True,\n",
       "   'title': 'Usabiliy Engineer',\n",
       "   'person': {'first_name': 'Bharath',\n",
       "    'last_name': 'Balasubramanian',\n",
       "    'permalink': 'bharath-balasibramanian'}},\n",
       "  {'is_past': True,\n",
       "   'title': 'Director of Engineering',\n",
       "   'person': {'first_name': 'Rajendran',\n",
       "    'last_name': 'Dandapani',\n",
       "    'permalink': 'rajendran-dandapani'}},\n",
       "  {'is_past': True,\n",
       "   'title': 'Market Analyst',\n",
       "   'person': {'first_name': 'Aravind',\n",
       "    'last_name': 'Natarajan',\n",
       "    'permalink': 'aravind-natarajan'}},\n",
       "  {'is_past': True,\n",
       "   'title': 'Director of Product Management',\n",
       "   'person': {'first_name': 'Hyther',\n",
       "    'last_name': 'Nizam',\n",
       "    'permalink': 'hyther-nizam'}},\n",
       "  {'is_past': True,\n",
       "   'title': 'Western Regional OEM Sales Manager',\n",
       "   'person': {'first_name': 'Ian',\n",
       "    'last_name': 'Wenig',\n",
       "    'permalink': 'ian-wenig'}}],\n",
       " 'competitions': [],\n",
       " 'providerships': [{'title': 'DHFH',\n",
       "   'is_past': True,\n",
       "   'provider': {'name': 'A Small Orange', 'permalink': 'a-small-orange'}}],\n",
       " 'total_money_raised': '$0',\n",
       " 'funding_rounds': [],\n",
       " 'investments': [],\n",
       " 'acquisition': None,\n",
       " 'acquisitions': [],\n",
       " 'offices': [{'description': 'Headquarters',\n",
       "   'address1': '4900 Hopyard Rd.',\n",
       "   'address2': 'Suite 310',\n",
       "   'zip_code': '94588',\n",
       "   'city': 'Pleasanton',\n",
       "   'state_code': 'CA',\n",
       "   'country_code': 'USA',\n",
       "   'latitude': 37.692934,\n",
       "   'longitude': -121.904945}],\n",
       " 'milestones': [],\n",
       " 'video_embeds': [],\n",
       " 'screenshots': [{'available_sizes': [[[150, 94],\n",
       "     'assets/images/resized/0004/3400/43400v1-max-150x150.png'],\n",
       "    [[250, 156], 'assets/images/resized/0004/3400/43400v1-max-250x250.png'],\n",
       "    [[450, 282], 'assets/images/resized/0004/3400/43400v1-max-450x450.png']],\n",
       "   'attribution': None}],\n",
       " 'external_links': [],\n",
       " 'partners': []}"
      ]
     },
     "execution_count": 2,
     "metadata": {},
     "output_type": "execute_result"
    }
   ],
   "source": [
    "#Lets have a quick look at the company collection\n",
    "\n",
    "companyCol.find_one()"
   ]
  },
  {
   "cell_type": "markdown",
   "metadata": {},
   "source": [
    "Now, let's say we're developing an API where users can view the overview of a company. In the web service, we might want to restrict access to the collections. What we can do is create a separate user and give that user access to the view instead of full collection"
   ]
  },
  {
   "cell_type": "code",
   "execution_count": 4,
   "metadata": {},
   "outputs": [
    {
     "data": {
      "text/plain": [
       "[{'name': 'ADVENTNET',\n",
       "  'Overview': 'ADVENTNET was founded in 1996 having 600 employees and specializing in Server Management Software. They can be contacted through 925-924-9500, pr@adventnet.com and abc3'},\n",
       " {'name': 'GOOGLE',\n",
       "  'Overview': 'GOOGLE was founded in 1998 having 28000 employees and specializing in . They can be contacted through 650.253.0000, google@google.com and google'},\n",
       " {'name': 'MICROSOFT',\n",
       "  'Overview': 'MICROSOFT was founded in 1974 having 90000 employees and specializing in . They can be contacted through ,  and microsoft'}]"
      ]
     },
     "execution_count": 4,
     "metadata": {},
     "output_type": "execute_result"
    }
   ],
   "source": [
    "#Let's have a quick look at our pipeline\n",
    "\n",
    "companies = ['Microsoft', 'Google', 'AdventNet']\n",
    "\n",
    "overview_pipeline = [\n",
    "    {\"$match\" : {\"name\" : {\"$in\": companies}}},\n",
    "    {\"$project\" : {\"_id\" : 0, \"name\" : {\"$toUpper\" : \"$name\"}, \"permalink\" : {\"$toLower\" : \"$permalink\"},\n",
    "                  \"number_of_employees\" : {\"$toString\" : \"$number_of_employees\"}, \"phone_number\": 1, \"email_address\": 1,\n",
    "                  \"description\" : 1, \"founded_year\" : {\"$toString\" : \"$founded_year\"}}},\n",
    "    {\"$project\" : {\"name\": 1, \"Overview\" : \n",
    "                   {\"$concat\" : [\"$name\", \" was founded in \", \"$founded_year\", \" having \",\"$number_of_employees\",\n",
    "                                \" employees and specializing in \", \"$description\", \". They can be contacted through \",\n",
    "                                \"$phone_number\", \", \", \"$email_address\" , \" and \", \"$permalink\"]}}}\n",
    "]\n",
    "\n",
    "list(companyCol.aggregate(overview_pipeline))"
   ]
  },
  {
   "cell_type": "code",
   "execution_count": 5,
   "metadata": {},
   "outputs": [
    {
     "data": {
      "text/plain": [
       "{'ok': 1.0}"
      ]
     },
     "execution_count": 5,
     "metadata": {},
     "output_type": "execute_result"
    }
   ],
   "source": [
    "#lets create view using the pipeline on the collection 'companies'\n",
    "\n",
    "overview_pipeline = [\n",
    "    {\"$project\" : {\"_id\" : 0, \"name\" : {\"$toUpper\" : \"$name\"}, \"permalink\" : {\"$toLower\" : \"$permalink\"},\n",
    "                  \"number_of_employees\" : {\"$toString\" : \"$number_of_employees\"}, \"phone_number\": 1, \"email_address\": 1,\n",
    "                  \"description\" : 1, \"founded_year\" : {\"$toString\" : \"$founded_year\"}}},\n",
    "    {\"$project\" : {\"name\": 1, \"Overview\" : \n",
    "                   {\"$concat\" : [\"$name\", \" was founded in \", \"$founded_year\", \" having \",\"$number_of_employees\",\n",
    "                                \" employees and specializing in \", \"$description\", \". They can be contacted through \",\n",
    "                                \"$phone_number\", \", \", \"$email_address\" , \" and \", \"$permalink\"]}}}\n",
    "]\n",
    "\n",
    "companyDB.command({\n",
    "    \"create\": \"companyOverview\",\n",
    "    \"viewOn\": \"companies\", \n",
    "    \"pipeline\": overview_pipeline\n",
    "})"
   ]
  },
  {
   "cell_type": "code",
   "execution_count": 7,
   "metadata": {},
   "outputs": [
    {
     "data": {
      "text/plain": [
       "['system.views', 'companies', 'companyOverview']"
      ]
     },
     "execution_count": 7,
     "metadata": {},
     "output_type": "execute_result"
    }
   ],
   "source": [
    "#views will get saved as collections\n",
    "\n",
    "companyDB.collection_names()"
   ]
  },
  {
   "cell_type": "code",
   "execution_count": 8,
   "metadata": {},
   "outputs": [],
   "source": [
    "#we can query the views as we query our collections\n",
    "\n",
    "companyView = companyDB.companyOverview"
   ]
  },
  {
   "cell_type": "code",
   "execution_count": 9,
   "metadata": {},
   "outputs": [
    {
     "data": {
      "text/plain": [
       "[{'name': 'ADVENTNET',\n",
       "  'Overview': 'ADVENTNET was founded in 1996 having 600 employees and specializing in Server Management Software. They can be contacted through 925-924-9500, pr@adventnet.com and abc3'},\n",
       " {'name': 'OMNIDRIVE', 'Overview': None},\n",
       " {'name': 'POSTINI', 'Overview': None},\n",
       " {'name': 'FLEKTOR', 'Overview': None},\n",
       " {'name': 'GENI',\n",
       "  'Overview': 'GENI was founded in 2006 having 18 employees and specializing in Geneology social network site. They can be contacted through ,  and geni'}]"
      ]
     },
     "execution_count": 9,
     "metadata": {},
     "output_type": "execute_result"
    }
   ],
   "source": [
    "list(companyView.find().limit(5))"
   ]
  },
  {
   "cell_type": "code",
   "execution_count": 11,
   "metadata": {},
   "outputs": [
    {
     "data": {
      "text/plain": [
       "[{'name': 'GENI',\n",
       "  'Overview': 'GENI was founded in 2006 having 18 employees and specializing in Geneology social network site. They can be contacted through ,  and geni'}]"
      ]
     },
     "execution_count": 11,
     "metadata": {},
     "output_type": "execute_result"
    }
   ],
   "source": [
    "list(companyView.find({\"name\" : \"GENI\"}))"
   ]
  },
  {
   "cell_type": "markdown",
   "metadata": {},
   "source": [
    "# Capped Collections"
   ]
  },
  {
   "cell_type": "markdown",
   "metadata": {},
   "source": [
    "Capped collections are fixed-size collections that support high-throughput operations that insert and retrieve documents based on insertion order. Capped collections work in a way similar to circular buffers: once a collection fills its allocated space, it makes room for new documents by overwriting the oldest documents in the collection.\n",
    "\n",
    "Insertion Order\n",
    "\n",
    "Capped collections guarantee preservation of the insertion order. As a result, queries do not need an index to return documents in insertion order. Without this indexing overhead, capped collections can support higher insertion throughput.\n",
    "\n",
    "Automatic Removal of Oldest Documents\n",
    "\n",
    "To make room for new documents, capped collections automatically remove the oldest documents in the collection without requiring scripts or explicit remove operations.\n",
    "\n",
    "Consider the following potential use cases for capped collections:\n",
    "\n",
    "Store log information generated by high-volume systems. Inserting documents in a capped collection without an index is close to the speed of writing log information directly to a file system. Furthermore, the built-in first-in-first-out property maintains the order of events, while managing storage use.\n",
    "\n",
    "Cache small amounts of data in a capped collections. Since caches are read rather than write heavy, you would either need to ensure that this collection always remains in the working set (i.e. in RAM) or accept some write penalty for the required index or indexes."
   ]
  },
  {
   "cell_type": "code",
   "execution_count": 16,
   "metadata": {},
   "outputs": [
    {
     "data": {
      "text/plain": [
       "{'ok': 1.0}"
      ]
     },
     "execution_count": 16,
     "metadata": {},
     "output_type": "execute_result"
    }
   ],
   "source": [
    "# db.createCollection( \"caplog\", { capped: true, size: 1000 } )\n",
    "\n",
    "companyDB.command({\n",
    "    \"create\": \"caplog\",\n",
    "    \"capped\": True,\n",
    "    \"size\": 1000\n",
    "})"
   ]
  },
  {
   "cell_type": "code",
   "execution_count": 17,
   "metadata": {},
   "outputs": [],
   "source": [
    "capLog = companyDB.capLog"
   ]
  },
  {
   "cell_type": "code",
   "execution_count": 21,
   "metadata": {},
   "outputs": [
    {
     "data": {
      "text/plain": [
       "{}"
      ]
     },
     "execution_count": 21,
     "metadata": {},
     "output_type": "execute_result"
    }
   ],
   "source": [
    "companyCol.options()"
   ]
  },
  {
   "cell_type": "code",
   "execution_count": 23,
   "metadata": {},
   "outputs": [
    {
     "data": {
      "text/plain": [
       "{'ns': 'companyData.capLog',\n",
       " 'size': 0,\n",
       " 'count': 0,\n",
       " 'storageSize': 0,\n",
       " 'nindexes': 0,\n",
       " 'totalIndexSize': 0,\n",
       " 'indexDetails': {},\n",
       " 'indexSizes': {},\n",
       " 'scaleFactor': 1,\n",
       " 'ok': 1.0}"
      ]
     },
     "execution_count": 23,
     "metadata": {},
     "output_type": "execute_result"
    }
   ],
   "source": [
    "companyDB.command('collstats','capLog')"
   ]
  }
 ],
 "metadata": {
  "kernelspec": {
   "display_name": "Python 3",
   "language": "python",
   "name": "python3"
  },
  "language_info": {
   "codemirror_mode": {
    "name": "ipython",
    "version": 3
   },
   "file_extension": ".py",
   "mimetype": "text/x-python",
   "name": "python",
   "nbconvert_exporter": "python",
   "pygments_lexer": "ipython3",
   "version": "3.6.5"
  }
 },
 "nbformat": 4,
 "nbformat_minor": 2
}
