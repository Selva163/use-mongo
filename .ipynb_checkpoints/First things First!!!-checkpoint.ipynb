{
 "cells": [
  {
   "cell_type": "markdown",
   "metadata": {},
   "source": [
    "<p style=\"font-size:2.2em;color:purple;\"># Setup MongoDB</p>"
   ]
  },
  {
   "cell_type": "markdown",
   "metadata": {},
   "source": [
    "# Install Mongo"
   ]
  },
  {
   "cell_type": "markdown",
   "metadata": {},
   "source": [
    "    I'm going to stick with docker here. Just use the following commands to pull image and run the instance."
   ]
  },
  {
   "cell_type": "raw",
   "metadata": {},
   "source": [
    "docker pull mongo\n",
    "docker run -d -p 27019:27017 -v /usr/app/mongodata:/data/db mongo"
   ]
  },
  {
   "cell_type": "markdown",
   "metadata": {},
   "source": [
    "Just to note that we can run the mongodb in whatever the port we wish to run , however when we run the client (mongo), it'll look to bind at port 27017. Since I'm running this at the port 27019, I'll be connecting to mongodb server using the following command. Open a new terminal and connect.\n",
    "\n",
    "mongo --port 27019\n",
    "\n",
    "\n",
    "Now we'll able to connect to our mongo instance and start querying. Use the command <b> show dbs </b> and make sure you've some default dbs there. However, lets make sure we enable authentication and authorization. Use the following commands."
   ]
  },
  {
   "cell_type": "raw",
   "metadata": {},
   "source": [
    "use admin\n",
    "\n",
    "db.createUser({user:\"admin\", pwd: \"yourpwd\", roles:[\"root\"], passwordDigestor:\"server\"})"
   ]
  },
  {
   "cell_type": "markdown",
   "metadata": {},
   "source": [
    "Here root is the super user and shouldn't be used in any of your app's connections strings. Lets create another user and user is restricted to a particular db (read and write)"
   ]
  },
  {
   "cell_type": "raw",
   "metadata": {},
   "source": [
    "db.createUser({user: 'webService', pwd: 'againpwd', roles:[{role:\"readWrite\", db:\"yourdb\"}], customData:{description: 'this user is created for read write access on this db and is used in apps'},passwordDigestor:\"server\"})"
   ]
  },
  {
   "cell_type": "markdown",
   "metadata": {},
   "source": [
    "Ok. Now stop the container and remove it. Now start mongo with <b>auth</b> required so that only persons who have proper credentials can query our db."
   ]
  },
  {
   "cell_type": "raw",
   "metadata": {},
   "source": [
    "docker run -d -p 27019:27017 -v /usr/app/mongodata:/data/db mongo --auth"
   ]
  },
  {
   "cell_type": "code",
   "execution_count": null,
   "metadata": {},
   "outputs": [],
   "source": []
  }
 ],
 "metadata": {
  "kernelspec": {
   "display_name": "Python 3",
   "language": "python",
   "name": "python3"
  },
  "language_info": {
   "codemirror_mode": {
    "name": "ipython",
    "version": 3
   },
   "file_extension": ".py",
   "mimetype": "text/x-python",
   "name": "python",
   "nbconvert_exporter": "python",
   "pygments_lexer": "ipython3",
   "version": "3.6.5"
  }
 },
 "nbformat": 4,
 "nbformat_minor": 2
}
